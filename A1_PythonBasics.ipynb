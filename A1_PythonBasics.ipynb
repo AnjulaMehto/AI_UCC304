{
  "nbformat": 4,
  "nbformat_minor": 0,
  "metadata": {
    "colab": {
      "provenance": [],
      "include_colab_link": true
    },
    "kernelspec": {
      "name": "python3",
      "display_name": "Python 3"
    },
    "language_info": {
      "name": "python"
    }
  },
  "cells": [
    {
      "cell_type": "markdown",
      "metadata": {
        "id": "view-in-github",
        "colab_type": "text"
      },
      "source": [
        "<a href=\"https://colab.research.google.com/github/AnjulaMehto/AI_UCC304/blob/main/A1_PythonBasics.ipynb\" target=\"_parent\"><img src=\"https://colab.research.google.com/assets/colab-badge.svg\" alt=\"Open In Colab\"/></a>"
      ]
    },
    {
      "cell_type": "markdown",
      "source": [
        "Q1. A class with 10 students wants to produce some information from the results of the four standard tests in Maths, Science, English and IT. Each test is out of 100 marks. The information output should be the highest, lowest and average mark for each test and the highest, lowest and average mark overall. Write a program in Python to complete this task."
      ],
      "metadata": {
        "id": "jcBIHBJORoSX"
      }
    },
    {
      "cell_type": "code",
      "execution_count": null,
      "metadata": {
        "colab": {
          "base_uri": "https://localhost:8080/"
        },
        "id": "-2XTG53BRfEu",
        "outputId": "05dc9015-ebee-4bff-e534-51cd0a1aee83"
      },
      "outputs": [
        {
          "output_type": "stream",
          "name": "stdout",
          "text": [
            "enter the Maths marks of 10 students-10 20 30 40 50 60 70 80 90 100\n",
            "enter the Science marks of 10 students-10 20 30 40 50 60 70 80 90 100\n",
            "enter the English marks of 10 students-10 20 30 40 50 60 70 80 90 100\n",
            "enter the IT marks of 10 students-10 20 30 40 50 60 70 80 90 100\n",
            "[100, 100, 100, 100]\n",
            "[10, 10, 10, 10]\n",
            "[55.0, 55.0, 55.0, 55.0]\n",
            "highest number-100\n",
            "lowest number-10\n",
            "average number-55.0\n"
          ]
        }
      ],
      "source": [
        "li=[]\n",
        "sub=['Maths','Science','English','IT']\n",
        "for i in sub:\n",
        "    a=list(map(int,input(f'enter the {i} marks of 10 students-').split()))\n",
        "    li.append(a)\n",
        "high_subject=[]\n",
        "low_subject=[]\n",
        "average_subject=[]\n",
        "for i in li:\n",
        "    high_subject.append(max(i))\n",
        "    low_subject.append(min(i))\n",
        "    average_subject.append(sum(i)/len(i))\n",
        "print(high_subject)\n",
        "print(low_subject)\n",
        "print(average_subject)\n",
        "print('highest number-'+str(max(high_subject)))\n",
        "print('lowest number-'+str(min(low_subject)))\n",
        "print('average number-'+str(sum(average_subject)/len(average_subject)))\n"
      ]
    },
    {
      "cell_type": "markdown",
      "source": [
        "Q2. Write a Python Program to input basic salary of an employee and calculate its Gross salary according to following: Basic Salary <= 10000 : HRA = 20%, DA = 80% Basic Salary <= 20000 : HRA = 25%, DA = 90% Basic Salary > 20000 : HRA = 30%, DA = 95%."
      ],
      "metadata": {
        "id": "JZDI3sJiScsZ"
      }
    },
    {
      "cell_type": "code",
      "source": [
        "basic_salary=int(input(\"Enter basic salary:\"))\n",
        "if basic_salary<=10000:\n",
        "    hra=0.2*basic_salary\n",
        "    da=0.8*basic_salary\n",
        "    gross_salary=basic_salary+hra+da\n",
        "    print('Gross Salary is:')\n",
        "    print(gross_salary)\n",
        "elif basic_salary<=20000:\n",
        "    hra=0.25*basic_salary\n",
        "    da=0.9*basic_salary\n",
        "    gross_salary=basic_salary+hra+da\n",
        "    print('Gross Salary is:')\n",
        "    print(gross_salary)\n",
        "elif basic_salary>20000:\n",
        "    hra=0.3*basic_salary\n",
        "    da=0.95*basic_salary\n",
        "    gross_salary=basic_salary+hra+da\n",
        "    print('Gross Salary is:')\n",
        "    print(gross_salary)\n"
      ],
      "metadata": {
        "colab": {
          "base_uri": "https://localhost:8080/"
        },
        "id": "g-EcphcfRwr9",
        "outputId": "acc258b4-0eea-41d2-af64-ac4797f3e693"
      },
      "execution_count": null,
      "outputs": [
        {
          "output_type": "stream",
          "name": "stdout",
          "text": [
            "Enter basic salary:14000\n",
            "Gross Salary is:\n",
            "30100.0\n"
          ]
        }
      ]
    },
    {
      "cell_type": "markdown",
      "source": [
        "Q3. Write a Python program to check the validity of password input by users.\n",
        "              VALIDATION:\n",
        "•\tAt least 1 letter between [a-z] and 1 letter between [A-Z].\n",
        "•\tAt least 1 number between [0-9].\n",
        "•\tAt least 1 character from [$#@].\n",
        "•\tMinimum length 6 characters.\n",
        "•\tMaximum length 16 characters.\n"
      ],
      "metadata": {
        "id": "G2URTHd2SnMV"
      }
    },
    {
      "cell_type": "code",
      "source": [
        "import re\n",
        "passwd= input(\"Input your password-\")\n",
        "x = True\n",
        "while x:\n",
        "    if (len(passwd)<6 or len(passwd)>12):\n",
        "        break\n",
        "    elif not re.search(\"[a-z]\",passwd):\n",
        "        break\n",
        "    elif not re.search(\"[0-9]\",passwd):\n",
        "        break\n",
        "    elif not re.search(\"[A-Z]\",passwd):\n",
        "        break\n",
        "    elif not re.search(\"[$#@]\",passwd):\n",
        "        break\n",
        "    else:\n",
        "        print(\"Valid Password\")\n",
        "        x=False\n",
        "        break\n",
        "if x:\n",
        "    print(\"Invalid Password\")\n"
      ],
      "metadata": {
        "colab": {
          "base_uri": "https://localhost:8080/"
        },
        "id": "lvHcQldqSg7u",
        "outputId": "a3991640-1674-4e31-8a67-a66da9dd7663"
      },
      "execution_count": null,
      "outputs": [
        {
          "output_type": "stream",
          "name": "stdout",
          "text": [
            "Input your password-khljk;\n",
            "Invalid Password\n"
          ]
        }
      ]
    },
    {
      "cell_type": "markdown",
      "source": [
        "Q4. Create a list L that is defined as = [10, 20, 30, 40, 50, 60, 70, 80].\n",
        "I.\tWAP to add 200 and 300 to L.\n",
        "II.\tWAP to remove 10 and 30 from L.\n",
        "III.\tWAP to sort L in ascending order.\n",
        "IV.\tWAP to sort L in descending order.\n"
      ],
      "metadata": {
        "id": "4PX_ZcYpS6O9"
      }
    },
    {
      "cell_type": "code",
      "source": [
        "l=[10,20,30,40,50,60,70,80]\n",
        "l.append(200) #part(i)\n",
        "l.append(300)\n",
        "print(l)\n",
        "l.remove(10)  #part(ii)\n",
        "l.remove(30)\n",
        "print(l)\n",
        "l.sort()    #part(iii)\n",
        "print(l)\n",
        "l.reverse()   #part(iv)\n",
        "print(l)\n"
      ],
      "metadata": {
        "colab": {
          "base_uri": "https://localhost:8080/"
        },
        "id": "Wmd5z3BkSzsj",
        "outputId": "dd582a57-7d91-424c-fe0b-93f51add6443"
      },
      "execution_count": null,
      "outputs": [
        {
          "output_type": "stream",
          "name": "stdout",
          "text": [
            "[10, 20, 30, 40, 50, 60, 70, 80, 200, 300]\n",
            "[20, 40, 50, 60, 70, 80, 200, 300]\n",
            "[20, 40, 50, 60, 70, 80, 200, 300]\n",
            "[300, 200, 80, 70, 60, 50, 40, 20]\n"
          ]
        }
      ]
    },
    {
      "cell_type": "markdown",
      "source": [
        "Q5. D is a dictionary defined as D= {1:”One”, 2:”Two”, 3:”Three”, 4: “Four”, 5:”Five”}.\n",
        "I.\tWAP to add new entry in D; key=6 and value is “Six”\n",
        "II.\tWAP to remove key=2.\n",
        "III.\tWAP to check if 6 key is present in D.\n",
        "IV.\tWAP to count the number of elements present in D.\n",
        "V.\tWAP to add all the values present D.\n"
      ],
      "metadata": {
        "id": "eIvGMiA7TFGG"
      }
    },
    {
      "cell_type": "code",
      "source": [
        "d={1:'One',2:'Two',3:'Three',4:'Four',5:'Five'}\n",
        "d.update({6:'Six'}) #part (i)\n",
        "print(d)\n",
        "d.pop(2)  #part(ii)\n",
        "print(d)\n",
        "if(6 in d.keys()):  #part(iii)\n",
        "    print('6 is present in dictionary')\n",
        "else:\n",
        "    print('Not present in dictionary')\n",
        "print(len(d))   #part(iv)\n",
        "print(sum(d.keys()))   #part(v)\n"
      ],
      "metadata": {
        "colab": {
          "base_uri": "https://localhost:8080/"
        },
        "id": "6ynWXmwdS_mk",
        "outputId": "0520f460-5f1a-4d0e-e80b-b25bf660aa42"
      },
      "execution_count": null,
      "outputs": [
        {
          "output_type": "stream",
          "name": "stdout",
          "text": [
            "{1: 'One', 2: 'Two', 3: 'Three', 4: 'Four', 5: 'Five', 6: 'Six'}\n",
            "{1: 'One', 3: 'Three', 4: 'Four', 5: 'Five', 6: 'Six'}\n",
            "6 is present in dictionary\n",
            "5\n",
            "19\n"
          ]
        }
      ]
    },
    {
      "cell_type": "code",
      "source": [],
      "metadata": {
        "id": "no3aKwQhTI-V"
      },
      "execution_count": null,
      "outputs": []
    },
    {
      "cell_type": "markdown",
      "source": [
        "Q6. WAP to create a list of 100 random numbers between 100 and 900. Count and print the:\n",
        "I.\tAll odd numbers\n",
        "II.\tAll even numbers\n",
        "III.\tAll prime numbers\n"
      ],
      "metadata": {
        "id": "AgWD8UlWTNId"
      }
    },
    {
      "cell_type": "code",
      "source": [
        "import random\n",
        "l=[random.randint(100,900) for _ in range(100)]\n",
        "print(l)\n",
        "odd=[]\n",
        "even=[]\n",
        "prime1=[]\n",
        "def prime(n):\n",
        "    for i in range(2,n//2+1):\n",
        "        if(n%i==0):\n",
        "            return False\n",
        "    return True\n",
        "for i in l:\n",
        "    if(i%2==0):\n",
        "        even.append(i)\n",
        "    if(i%2==1):\n",
        "        odd.append(i)\n",
        "for i in odd:\n",
        "    if(prime(i)):\n",
        "        prime1.append(i)\n",
        "print(odd)\n",
        "print(even)\n",
        "print(prime1)\n",
        "print('total odd numbers-'+str(len(odd)))\n",
        "print('total even numbers-'+str(len(even)))\n",
        "print('total prime numbers-'+str(len(prime1)))\n"
      ],
      "metadata": {
        "colab": {
          "base_uri": "https://localhost:8080/"
        },
        "id": "_Wh59Ys7TT00",
        "outputId": "35536842-b070-4736-ee6b-42d7f7c396bb"
      },
      "execution_count": null,
      "outputs": [
        {
          "output_type": "stream",
          "name": "stdout",
          "text": [
            "[163, 834, 772, 301, 347, 524, 361, 275, 439, 352, 692, 401, 831, 682, 206, 763, 777, 478, 510, 718, 442, 531, 426, 542, 816, 285, 609, 115, 695, 408, 591, 541, 348, 540, 523, 512, 890, 402, 563, 591, 387, 226, 421, 338, 397, 657, 813, 458, 341, 124, 530, 447, 456, 475, 100, 341, 234, 576, 863, 807, 286, 694, 842, 246, 693, 591, 681, 152, 578, 687, 741, 431, 599, 571, 551, 593, 400, 743, 895, 657, 737, 520, 798, 802, 825, 830, 352, 447, 210, 232, 349, 212, 425, 456, 748, 372, 581, 475, 258, 792]\n",
            "[163, 301, 347, 361, 275, 439, 401, 831, 763, 777, 531, 285, 609, 115, 695, 591, 541, 523, 563, 591, 387, 421, 397, 657, 813, 341, 447, 475, 341, 863, 807, 693, 591, 681, 687, 741, 431, 599, 571, 551, 593, 743, 895, 657, 737, 825, 447, 349, 425, 581, 475]\n",
            "[834, 772, 524, 352, 692, 682, 206, 478, 510, 718, 442, 426, 542, 816, 408, 348, 540, 512, 890, 402, 226, 338, 458, 124, 530, 456, 100, 234, 576, 286, 694, 842, 246, 152, 578, 400, 520, 798, 802, 830, 352, 210, 232, 212, 456, 748, 372, 258, 792]\n",
            "[163, 347, 439, 401, 541, 523, 563, 421, 397, 863, 431, 599, 571, 593, 743, 349]\n",
            "total odd numbers-51\n",
            "total even numbers-49\n",
            "total prime numbers-16\n"
          ]
        }
      ]
    },
    {
      "cell_type": "markdown",
      "source": [
        "Q7. (i) Write a function which takes principal amount, interest rate and time. This function returns compound interest. Call this function to print the output.\n",
        "(ii) Save this function (as a module) in a python file and call it in another python file.\n"
      ],
      "metadata": {
        "id": "rLsOwnplTeWO"
      }
    },
    {
      "cell_type": "code",
      "source": [
        "def ci_func(p,r,t):\n",
        "  ci=p*((1+r/100)**t)\n",
        "  return ci\n",
        "result=ci_func(10000,7.78,2)\n",
        "print(result)\n",
        "\n",
        "import Compound\n",
        "ans=Compound.ci_func(10000,7.78,2)\n",
        "print(ans)\n"
      ],
      "metadata": {
        "colab": {
          "base_uri": "https://localhost:8080/",
          "height": 391
        },
        "id": "s0TqNKabTYVV",
        "outputId": "d95cc771-54c6-4d2c-e62c-1c527f91ae3c"
      },
      "execution_count": null,
      "outputs": [
        {
          "output_type": "stream",
          "name": "stdout",
          "text": [
            "11616.528400000001\n"
          ]
        },
        {
          "output_type": "error",
          "ename": "ModuleNotFoundError",
          "evalue": "ignored",
          "traceback": [
            "\u001b[0;31m---------------------------------------------------------------------------\u001b[0m",
            "\u001b[0;31mModuleNotFoundError\u001b[0m                       Traceback (most recent call last)",
            "\u001b[0;32m<ipython-input-10-c3104ef2a406>\u001b[0m in \u001b[0;36m<module>\u001b[0;34m\u001b[0m\n\u001b[1;32m      5\u001b[0m \u001b[0mprint\u001b[0m\u001b[0;34m(\u001b[0m\u001b[0mresult\u001b[0m\u001b[0;34m)\u001b[0m\u001b[0;34m\u001b[0m\u001b[0;34m\u001b[0m\u001b[0m\n\u001b[1;32m      6\u001b[0m \u001b[0;34m\u001b[0m\u001b[0m\n\u001b[0;32m----> 7\u001b[0;31m \u001b[0;32mimport\u001b[0m \u001b[0mCompound\u001b[0m\u001b[0;34m\u001b[0m\u001b[0;34m\u001b[0m\u001b[0m\n\u001b[0m\u001b[1;32m      8\u001b[0m \u001b[0mans\u001b[0m\u001b[0;34m=\u001b[0m\u001b[0mCompound\u001b[0m\u001b[0;34m.\u001b[0m\u001b[0mci_func\u001b[0m\u001b[0;34m(\u001b[0m\u001b[0;36m10000\u001b[0m\u001b[0;34m,\u001b[0m\u001b[0;36m7.78\u001b[0m\u001b[0;34m,\u001b[0m\u001b[0;36m2\u001b[0m\u001b[0;34m)\u001b[0m\u001b[0;34m\u001b[0m\u001b[0;34m\u001b[0m\u001b[0m\n\u001b[1;32m      9\u001b[0m \u001b[0mprint\u001b[0m\u001b[0;34m(\u001b[0m\u001b[0mans\u001b[0m\u001b[0;34m)\u001b[0m\u001b[0;34m\u001b[0m\u001b[0;34m\u001b[0m\u001b[0m\n",
            "\u001b[0;31mModuleNotFoundError\u001b[0m: No module named 'Compound'",
            "",
            "\u001b[0;31m---------------------------------------------------------------------------\u001b[0;32m\nNOTE: If your import is failing due to a missing package, you can\nmanually install dependencies using either !pip or !apt.\n\nTo view examples of installing some common dependencies, click the\n\"Open Examples\" button below.\n\u001b[0;31m---------------------------------------------------------------------------\u001b[0m\n"
          ],
          "errorDetails": {
            "actions": [
              {
                "action": "open_url",
                "actionText": "Open Examples",
                "url": "/notebooks/snippets/importing_libraries.ipynb"
              }
            ]
          }
        }
      ]
    },
    {
      "cell_type": "markdown",
      "source": [
        "Q8. a) Make a class called Restaurant. The __init__() method for Restaurant should store two attributes: a restaurant_name and a cuisine_type. Make a method called describe_restaurant() that prints these two pieces of information, and a method called open_restaurant() that prints a message indicating that the restaurant is open. Make an instance called restaurant from your class. Print the two attributes individually, and then call both methods.\n",
        "b) Make a class called User. Create two attributes called first_name and last_name, and then create several other attributes that are typically stored in a user profile. Make a method called describe_user() that prints a summary of the user’s information. Make another method called greet_user() that prints a personalized greeting to the user. Create several instances representing different users, and call both method for each user.\n"
      ],
      "metadata": {
        "id": "RawY6jJgTngG"
      }
    },
    {
      "cell_type": "code",
      "source": [
        "class Restaurant:\n",
        "    def __init__(self,restaurant_name,cuisine_type):\n",
        "        self.restaurant_name=restaurant_name\n",
        "        self.cuisine_type=cuisine_type\n",
        "    def describe_restaurant(self):\n",
        "        print('Name of Restaurant-'+self.restaurant_name)\n",
        "        print('Type of cuisine-'+self.cuisine_type)\n",
        "    def open_restaurant(self):\n",
        "        print('The Restaurant is open')\n",
        "restaurant=Restaurant('Menon','Fast Food')\n",
        "print(restaurant.restaurant_name)\n",
        "print(restaurant.cuisine_type)\n",
        "restaurant.describe_restaurant()\n",
        "restaurant.open_restaurant()\n"
      ],
      "metadata": {
        "colab": {
          "base_uri": "https://localhost:8080/"
        },
        "id": "NmlI79LVTiT4",
        "outputId": "d8ba508e-6a23-4adb-f9d1-41c5869f39f8"
      },
      "execution_count": null,
      "outputs": [
        {
          "output_type": "stream",
          "name": "stdout",
          "text": [
            "Menon\n",
            "Fast Food\n",
            "Name of Restaurant-Menon\n",
            "Type of cuisine-Fast Food\n",
            "The Restaurant is open\n"
          ]
        }
      ]
    },
    {
      "cell_type": "code",
      "source": [
        "class User:\n",
        "    def __init__(self, first_name, last_name, username, email, location):\n",
        "        self.first_name = first_name\n",
        "        self.last_name = last_name\n",
        "        self.username = username\n",
        "        self.email = email\n",
        "        self.location = location\n",
        "    def describe_user(self):\n",
        "        print('Name-'+self.first_name+' '+self.last_name)\n",
        "        print(' Username-'+self.username)\n",
        "        print(' Email-'+self.email)\n",
        "        print(' Location-'+self.location)\n",
        "    def greet_user(self):\n",
        "        print('Welcome back,'+self.username+'!')\n",
        "param = User('Paramjot', 'singh', 'parm', 'paramjot@example.com', 'singh')\n",
        "param.describe_user()\n",
        "param.greet_user()\n",
        "\n",
        "ramesh = User('ramesh', 'kumar', 'rkumar', 'rkumar1@example.com', 'delhi')\n",
        "ramesh.describe_user()\n",
        "ramesh.greet_user()\n"
      ],
      "metadata": {
        "colab": {
          "base_uri": "https://localhost:8080/"
        },
        "id": "ATCOVndoTxB8",
        "outputId": "662e7390-67ef-4691-8a6e-a7d1a551ed64"
      },
      "execution_count": null,
      "outputs": [
        {
          "output_type": "stream",
          "name": "stdout",
          "text": [
            "Name-Paramjot singh\n",
            " Username-parm\n",
            " Email-paramjot@example.com\n",
            " Location-singh\n",
            "Welcome back,parm!\n",
            "Name-ramesh kumar\n",
            " Username-rkumar\n",
            " Email-rkumar1@example.com\n",
            " Location-delhi\n",
            "Welcome back,rkumar!\n"
          ]
        }
      ]
    },
    {
      "cell_type": "code",
      "source": [],
      "metadata": {
        "id": "GJYoWajUTxyr"
      },
      "execution_count": null,
      "outputs": []
    }
  ]
}