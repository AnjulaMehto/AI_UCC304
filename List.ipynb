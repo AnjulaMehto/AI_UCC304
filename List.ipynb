{
  "cells": [
    {
      "cell_type": "markdown",
      "metadata": {
        "id": "view-in-github",
        "colab_type": "text"
      },
      "source": [
        "<a href=\"https://colab.research.google.com/github/AnjulaMehto/AI_UCC304/blob/main/List.ipynb\" target=\"_parent\"><img src=\"https://colab.research.google.com/assets/colab-badge.svg\" alt=\"Open In Colab\"/></a>"
      ]
    },
    {
      "cell_type": "code",
      "execution_count": null,
      "metadata": {
        "colab": {
          "base_uri": "https://localhost:8080/"
        },
        "id": "NgD98qCPJ9xJ",
        "outputId": "309430b5-a8dc-4d54-c939-59544f39f3d3"
      },
      "outputs": [
        {
          "name": "stdout",
          "output_type": "stream",
          "text": [
            "[1, 2, 3, 4, 5, 6, 'is']\n"
          ]
        }
      ],
      "source": [
        "l=[1, 2, 3, 4, 5, 6, 'is']\n",
        "print(l)"
      ]
    },
    {
      "cell_type": "code",
      "execution_count": null,
      "metadata": {
        "id": "K_BiMWB5PyVO"
      },
      "outputs": [],
      "source": [
        "l1 = [20, 30, 'abc']\n",
        "print(l1)"
      ]
    },
    {
      "cell_type": "code",
      "execution_count": null,
      "metadata": {
        "colab": {
          "background_save": true
        },
        "id": "3s5wiisiQ970",
        "outputId": "475b2bc9-5fbe-4ed8-cbe3-b5c63eef36f2"
      },
      "outputs": [
        {
          "name": "stdout",
          "output_type": "stream",
          "text": [
            "[10, 30, 40, 50, 60, 70, 80, 100, 200]\n"
          ]
        }
      ],
      "source": [
        "L=[10, 20, 30, 40, 50, 60, 70, 80]"
      ]
    },
    {
      "cell_type": "markdown",
      "source": [],
      "metadata": {
        "id": "2GfUsFDEkfEz"
      }
    }
  ],
  "metadata": {
    "colab": {
      "provenance": [],
      "authorship_tag": "ABX9TyOv/1mIx/WdtozE2Og9DRaY",
      "include_colab_link": true
    },
    "kernelspec": {
      "display_name": "Python 3",
      "name": "python3"
    },
    "language_info": {
      "name": "python"
    }
  },
  "nbformat": 4,
  "nbformat_minor": 0
}