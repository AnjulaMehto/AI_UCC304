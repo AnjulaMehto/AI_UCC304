{
  "nbformat": 4,
  "nbformat_minor": 0,
  "metadata": {
    "colab": {
      "provenance": [],
      "authorship_tag": "ABX9TyPuSGGzYSpW4bkL1hAzO6ty",
      "include_colab_link": true
    },
    "kernelspec": {
      "name": "python3",
      "display_name": "Python 3"
    },
    "language_info": {
      "name": "python"
    }
  },
  "cells": [
    {
      "cell_type": "markdown",
      "metadata": {
        "id": "view-in-github",
        "colab_type": "text"
      },
      "source": [
        "<a href=\"https://colab.research.google.com/github/AnjulaMehto/AI_UCC304/blob/main/Best_first_search.ipynb\" target=\"_parent\"><img src=\"https://colab.research.google.com/assets/colab-badge.svg\" alt=\"Open In Colab\"/></a>"
      ]
    },
    {
      "cell_type": "code",
      "source": [
        "import heapq  # To implement priority queue\n",
        "\n",
        "# Define a class for the graph nodes\n",
        "class Node:\n",
        "    def __init__(self, name, distance):\n",
        "        self.name = name\n",
        "        self.distance = distance  # This is the heuristic value (distance)\n",
        "        self.children = []  # List of children nodes\n",
        "\n",
        "    # Add a child node with a specific distance\n",
        "    def add_child(self, child_node):\n",
        "        self.children.append(child_node)\n",
        "\n",
        "# Best First Search function\n",
        "def best_first_search(start_node, goal):\n",
        "    # Priority queue, initialized with the start node\n",
        "    open_list = []\n",
        "    heapq.heappush(open_list, (start_node.distance, start_node))\n",
        "\n",
        "    # List to keep track of visited nodes\n",
        "    visited = []\n",
        "\n",
        "    while open_list:\n",
        "        # Pop the node with the smallest distance\n",
        "        _, current_node = heapq.heappop(open_list)\n",
        "\n",
        "        # If current node is the goal node, return success\n",
        "        if current_node.name == goal:\n",
        "            print(f\"Goal node '{goal}' found!\")\n",
        "            return\n",
        "\n",
        "        # Add the current node to visited list\n",
        "        visited.append(current_node.name)\n",
        "        print(f\"Visiting node: {current_node.name}\")\n",
        "\n",
        "        # Add the children to the open list (priority queue)\n",
        "        for child in current_node.children:\n",
        "            if child.name not in visited:\n",
        "                heapq.heappush(open_list, (child.distance, child))\n",
        "\n",
        "    print(f\"Goal node '{goal}' not found.\")\n",
        "\n",
        "# Create nodes\n",
        "S = Node(\"S\", 0)   # Start node, heuristic value is 0\n",
        "A = Node(\"A\", 2)   # Heuristic value of 2\n",
        "B = Node(\"B\", 3)   # Heuristic value of 3\n",
        "C = Node(\"C\", 1)   # Heuristic value of 1\n",
        "D = Node(\"D\", 4)   # Goal node, heuristic value of 4\n",
        "E = Node(\"E\", 3)   # Node B's child, heuristic value of 3\n",
        "\n",
        "# Build the tree\n",
        "S.add_child(A)\n",
        "S.add_child(B)\n",
        "S.add_child(C)\n",
        "A.add_child(D)  # D is the child of A (goal node)\n",
        "B.add_child(E)  # E is the child of B\n",
        "\n",
        "# Perform best-first search starting from S and looking for goal node D\n",
        "best_first_search(S, \"D\")\n"
      ],
      "metadata": {
        "colab": {
          "base_uri": "https://localhost:8080/"
        },
        "id": "bcI24f8ywvVj",
        "outputId": "90278156-c572-46f9-cbc4-bbed2e05ce6d"
      },
      "execution_count": 3,
      "outputs": [
        {
          "output_type": "stream",
          "name": "stdout",
          "text": [
            "Visiting node: S\n",
            "Visiting node: C\n",
            "Visiting node: A\n",
            "Visiting node: B\n",
            "Visiting node: E\n",
            "Goal node 'D' found!\n"
          ]
        }
      ]
    }
  ]
}