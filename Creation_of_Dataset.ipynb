{
  "nbformat": 4,
  "nbformat_minor": 0,
  "metadata": {
    "colab": {
      "provenance": [],
      "authorship_tag": "ABX9TyOJTFPN1fDexFdCaqQFOoz7",
      "include_colab_link": true
    },
    "kernelspec": {
      "name": "python3",
      "display_name": "Python 3"
    },
    "language_info": {
      "name": "python"
    }
  },
  "cells": [
    {
      "cell_type": "markdown",
      "metadata": {
        "id": "view-in-github",
        "colab_type": "text"
      },
      "source": [
        "<a href=\"https://colab.research.google.com/github/AnjulaMehto/AI_UCC304/blob/main/Creation_of_Dataset.ipynb\" target=\"_parent\"><img src=\"https://colab.research.google.com/assets/colab-badge.svg\" alt=\"Open In Colab\"/></a>"
      ]
    },
    {
      "cell_type": "code",
      "execution_count": 1,
      "metadata": {
        "colab": {
          "base_uri": "https://localhost:8080/"
        },
        "id": "pL8g7WY9epbj",
        "outputId": "50d70b2f-13e4-4305-e001-ac2263bc5400"
      },
      "outputs": [
        {
          "output_type": "stream",
          "name": "stdout",
          "text": [
            "   cars  passing\n",
            "0  Tata        3\n",
            "1   BMW        7\n",
            "2  Ford        2\n",
            "cars       Tata\n",
            "passing       3\n",
            "Name: 0, dtype: object\n"
          ]
        }
      ],
      "source": [
        "#Q.1 Create Dataset\n",
        "import pandas as pd\n",
        "mydataset = {\n",
        "     'cars':[\"Tata\", \"BMW\", \"Ford\"],\n",
        "     'passing' : [3,7,2]\n",
        " }\n",
        "df = pd.DataFrame(mydataset)\n",
        "print(df)\n",
        "print(df.loc[0])"
      ]
    },
    {
      "cell_type": "code",
      "source": [
        "import pandas as pd\n",
        "data ={\n",
        "    'calories':[450, 450, 560],\n",
        "    'duration': [20, 40, 50]\n",
        "}\n",
        "df=pd.DataFrame(data)\n",
        "print(df)\n",
        "print(df.loc[1])"
      ],
      "metadata": {
        "colab": {
          "base_uri": "https://localhost:8080/"
        },
        "id": "ho4Bazto44hL",
        "outputId": "19f61c6e-82df-4296-e4e7-25cd4e0c8ce7"
      },
      "execution_count": 6,
      "outputs": [
        {
          "output_type": "stream",
          "name": "stdout",
          "text": [
            "   calories  duration\n",
            "0       450        20\n",
            "1       450        40\n",
            "2       560        50\n",
            "calories    450\n",
            "duration     40\n",
            "Name: 1, dtype: int64\n"
          ]
        }
      ]
    },
    {
      "cell_type": "code",
      "source": [
        "#Pandas series\n",
        "import pandas as pd\n",
        "a =[1,7,2]\n",
        "data1=pd.Series(a)\n",
        "print(data1)\n"
      ],
      "metadata": {
        "colab": {
          "base_uri": "https://localhost:8080/"
        },
        "id": "z3QdvC7-hd3Q",
        "outputId": "3cd69aaf-b102-483b-e270-748036429f7b"
      },
      "execution_count": 7,
      "outputs": [
        {
          "output_type": "stream",
          "name": "stdout",
          "text": [
            "0    1\n",
            "1    7\n",
            "2    2\n",
            "dtype: int64\n"
          ]
        }
      ]
    },
    {
      "cell_type": "code",
      "source": [
        "#Label in Pandas\n",
        "import pandas as pd\n",
        "a=[1,7,2]\n",
        "myvar = pd.Series(a, index=[\"X\", \"Y\", \"Z\"])\n",
        "print(myvar)\n"
      ],
      "metadata": {
        "colab": {
          "base_uri": "https://localhost:8080/"
        },
        "id": "8DkZG7wIjfyd",
        "outputId": "dbc3c3f6-139f-48bf-b467-34edd865948f"
      },
      "execution_count": null,
      "outputs": [
        {
          "output_type": "stream",
          "name": "stdout",
          "text": [
            "X    1\n",
            "Y    7\n",
            "Z    2\n",
            "dtype: int64\n"
          ]
        }
      ]
    },
    {
      "cell_type": "code",
      "source": [
        "#Read CSV file\n",
        "import pandas as pd\n",
        "df=pd.read_csv('data.csv')\n",
        "print(df.to_string())"
      ],
      "metadata": {
        "colab": {
          "base_uri": "https://localhost:8080/"
        },
        "id": "O4OMflv7kD3L",
        "outputId": "2d0ee6de-93c1-4750-a4be-d14f723c5b46"
      },
      "execution_count": 9,
      "outputs": [
        {
          "output_type": "stream",
          "name": "stdout",
          "text": [
            "     Outlook  Temp Humidity  Windy  Play\n",
            "0      rainy   hot     high      0     0\n",
            "1      rainy   hot     high      1     0\n",
            "2   overcast   hot     high      0     1\n",
            "3      sunny  mild     high      0     1\n",
            "4      sunny  cool   normal      0     1\n",
            "5      sunny  cool   normal      1     0\n",
            "6   overcast  cool   normal      1     1\n",
            "7      rainy  mild     high      0     0\n",
            "8      rainy  cool   normal      0     1\n",
            "9      sunny  mild   normal      0     1\n",
            "10     rainy  mild   normal      1     1\n",
            "11  overcast  mild     high      1     1\n",
            "12  overcast   hot   normal      0     1\n",
            "13     sunny  mild     high      1     0\n"
          ]
        }
      ]
    }
  ]
}