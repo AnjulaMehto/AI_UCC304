{
  "nbformat": 4,
  "nbformat_minor": 0,
  "metadata": {
    "colab": {
      "provenance": [],
      "authorship_tag": "ABX9TyM3iC1dXUSC4g92chnzqRiT",
      "include_colab_link": true
    },
    "kernelspec": {
      "name": "python3",
      "display_name": "Python 3"
    },
    "language_info": {
      "name": "python"
    }
  },
  "cells": [
    {
      "cell_type": "markdown",
      "metadata": {
        "id": "view-in-github",
        "colab_type": "text"
      },
      "source": [
        "<a href=\"https://colab.research.google.com/github/AnjulaMehto/AI_UCC304/blob/main/BFS_and_DFS.ipynb\" target=\"_parent\"><img src=\"https://colab.research.google.com/assets/colab-badge.svg\" alt=\"Open In Colab\"/></a>"
      ]
    },
    {
      "cell_type": "code",
      "source": [
        "#BFS code\n",
        "# Define the graph structure using an adjacency list with the help of a Python Dictionary\n",
        "graph = {\n",
        "    '5': ['3', '7'],\n",
        "    '3': ['2', '4'],\n",
        "    '7': ['8'],\n",
        "    '2': [],\n",
        "    '4': ['8'],\n",
        "    '8': []\n",
        "}\n",
        "\n",
        "# BFS algorithm with OPEN and CLOSED lists\n",
        "def bfs_with_open_closed(graph, start, goal):\n",
        "    OPEN = [start]  # Initialize OPEN with the starting node\n",
        "    CLOSED = []     # Initialize CLOSED as an empty list\n",
        "\n",
        "    while OPEN:     # Loop until OPEN is empty\n",
        "        # Remove the head of OPEN and add it to CLOSED\n",
        "        N = OPEN.pop(0)\n",
        "        CLOSED.append(N)\n",
        "\n",
        "        # Check if the current node is the goal node\n",
        "        if N == goal:\n",
        "            print(\"Goal found!\")\n",
        "            return construct_path(CLOSED, start, goal)  # Construct path from start to goal\n",
        "\n",
        "        # Generate successors of node N\n",
        "        for neighbor in graph[N]:\n",
        "            # If the neighbor is not in OPEN or CLOSED, add it to OPEN\n",
        "            if neighbor not in OPEN and neighbor not in CLOSED:\n",
        "                OPEN.append(neighbor)\n",
        "\n",
        "    return \"Goal not found\"  # If OPEN is empty and goal not found\n",
        "\n",
        "# Function to construct the traversal from start to goal using the CLOSED list\n",
        "def construct_path(CLOSED, start, goal):\n",
        "    print(\"CLOSED list (Explored nodes):\", CLOSED)\n",
        "    path = []\n",
        "    for node in CLOSED:\n",
        "        path.append(node)\n",
        "        if node == goal:\n",
        "            break\n",
        "    return path\n",
        "\n",
        "# Driver Code\n",
        "start_node = '5'\n",
        "goal_node = '8'\n",
        "path = bfs_with_open_closed(graph, start_node, goal_node)\n",
        "print(\"Traversal  from start to goal:\", path)\n"
      ],
      "metadata": {
        "colab": {
          "base_uri": "https://localhost:8080/"
        },
        "id": "P_NHvmbEVQ1C",
        "outputId": "ed7f1bb8-673b-4029-9ee0-55c964851918"
      },
      "execution_count": 5,
      "outputs": [
        {
          "output_type": "stream",
          "name": "stdout",
          "text": [
            "Goal found!\n",
            "CLOSED list (Explored nodes): ['5', '3', '7', '2', '4', '8']\n",
            "Traversal  from start to goal: ['5', '3', '7', '2', '4', '8']\n"
          ]
        }
      ]
    },
    {
      "cell_type": "markdown",
      "source": [
        "DFS for the graph"
      ],
      "metadata": {
        "id": "rvrwXLg9o_oh"
      }
    }
  ]
}