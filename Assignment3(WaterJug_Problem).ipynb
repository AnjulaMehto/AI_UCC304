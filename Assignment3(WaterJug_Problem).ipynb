{
  "nbformat": 4,
  "nbformat_minor": 0,
  "metadata": {
    "colab": {
      "provenance": [],
      "authorship_tag": "ABX9TyOBpnHC4mH0AUwIPUDuhsgZ",
      "include_colab_link": true
    },
    "kernelspec": {
      "name": "python3",
      "display_name": "Python 3"
    },
    "language_info": {
      "name": "python"
    }
  },
  "cells": [
    {
      "cell_type": "markdown",
      "metadata": {
        "id": "view-in-github",
        "colab_type": "text"
      },
      "source": [
        "<a href=\"https://colab.research.google.com/github/AnjulaMehto/AI_UCC304/blob/main/Assignment3(WaterJug_Problem).ipynb\" target=\"_parent\"><img src=\"https://colab.research.google.com/assets/colab-badge.svg\" alt=\"Open In Colab\"/></a>"
      ]
    },
    {
      "cell_type": "code",
      "execution_count": 9,
      "metadata": {
        "colab": {
          "base_uri": "https://localhost:8080/"
        },
        "id": "jZbkKOiTOICG",
        "outputId": "ce757452-99ce-4cb4-ec50-b36821e52bf0"
      },
      "outputs": [
        {
          "output_type": "stream",
          "name": "stdout",
          "text": [
            "Steps:\n",
            "0 0\n",
            "4 0\n",
            "4 3\n",
            "0 3\n",
            "3 0\n",
            "3 3\n",
            "4 2\n",
            "0 2\n"
          ]
        },
        {
          "output_type": "execute_result",
          "data": {
            "text/plain": [
              "True"
            ]
          },
          "metadata": {},
          "execution_count": 9
        }
      ],
      "source": [
        "from collections import defaultdict\n",
        "jug1, jug2, aim = 4, 3, 2\n",
        "visited = defaultdict(lambda: False)\n",
        "def waterJugSolver(amt1, amt2):\n",
        " if (amt1 == aim and amt2 == 0) or (amt2 == aim and amt1 == 0):\n",
        "  print(amt1, amt2)\n",
        "  return True\n",
        " if visited[(amt1, amt2)] == False:\n",
        "  print(amt1, amt2)\n",
        "  visited[(amt1, amt2)] = True\n",
        "  return (waterJugSolver(0, amt2) or\n",
        "waterJugSolver(amt1, 0) or\n",
        "waterJugSolver(jug1, amt2) or\n",
        "waterJugSolver(amt1, jug2) or\n",
        "waterJugSolver(amt1 + min(amt2, (jug1-amt1)),\n",
        "amt2 - min(amt2, (jug1-amt1))) or\n",
        "waterJugSolver(amt1 - min(amt1, (jug2-amt2)),\n",
        "amt2 + min(amt1, (jug2-amt2))))\n",
        " else:\n",
        "  return False\n",
        "print(\"Steps:\")\n",
        "waterJugSolver(0, 0)"
      ]
    },
    {
      "cell_type": "code",
      "source": [
        "dst=[]\n",
        "def travel(g, v, pos, n, count, cost):\n",
        "  if(count==n and g[pos][s]):\n",
        "   cost+=g[pos][s]\n",
        "   dst.append(cost)\n",
        "   return\n",
        "  for i in range(0,n):\n",
        "   if(v[i]==False and g[pos][i]):\n",
        "     v[i]=True\n",
        "     travel(g,v,i,n,count+1,cost+g[pos][i])\n",
        "     v[i]=False\n",
        "n=4\n",
        "g=[[0, 10, 15, 20],[10, 0, 35, 25],[15, 35, 0, 30],[20, 25, 30, 0]]\n",
        "s=int(input(\"Enter a number between 1 and 4:\"))\n",
        "v=[False for i in range(0,n)]\n",
        "s-=1\n",
        "v[s]=True\n",
        "travel(g,v,s,n,1,0)\n",
        "print(dst)\n",
        "print(min(dst))"
      ],
      "metadata": {
        "colab": {
          "base_uri": "https://localhost:8080/"
        },
        "id": "UViSc3BNROiv",
        "outputId": "bcd79ad6-d30a-41ff-92ef-e1f432869c7e"
      },
      "execution_count": 14,
      "outputs": [
        {
          "output_type": "stream",
          "name": "stdout",
          "text": [
            "Enter a number between 1 and 4:4\n",
            "[95, 95, 80, 95, 80, 95]\n",
            "80\n"
          ]
        }
      ]
    }
  ]
}